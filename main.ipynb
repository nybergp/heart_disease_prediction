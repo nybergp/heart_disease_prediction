{
 "cells": [
  {
   "cell_type": "code",
   "execution_count": 1,
   "metadata": {},
   "outputs": [],
   "source": [
    "# Project description\n",
    "#\n",
    "# The aim of this notebook is to explore and find ways to predict heart disease with as high performance as possible\n",
    "# using the \"UCI Heart Disease\" dataset, extracted from Kaggle.com.\n",
    "# -------------------------\n",
    "\n",
    "import pandas as pd\n",
    "import numpy as np\n",
    "import seaborn as sb\n",
    "\n",
    "data = pd.read_csv('dataset.csv', sep = ',')\n"
   ]
  },
  {
   "cell_type": "code",
   "execution_count": 3,
   "metadata": {},
   "outputs": [
    {
     "data": {
      "image/png": "[encoded data removed]",
      "text/plain": [
       "<Figure size 1440x504 with 2 Axes>"
      ]
     },
     "metadata": {
      "needs_background": "light"
     },
     "output_type": "display_data"
    },
    {
     "data": {
      "text/plain": [
       "sex  target\n",
       "0    0          24\n",
       "     1          72\n",
       "1    0         114\n",
       "     1          93\n",
       "Name: target, dtype: int64"
      ]
     },
     "execution_count": 3,
     "metadata": {},
     "output_type": "execute_result"
    }
   ],
   "source": [
    "# Testing some shit\n",
    "import matplotlib.pyplot as plt\n",
    "\n",
    "names = ['positive', 'negative']\n",
    "sex = ['female', 'male']\n",
    "\n",
    "plt.figure(1, figsize=(20, 7))\n",
    "\n",
    "plt.subplot(131)\n",
    "plt.bar(names, data['target'].value_counts())\n",
    "plt.title('Heart disease: distribution')\n",
    "plt.subplot(132)\n",
    "# Plotting male and female counts for cases that are positive with heart disease\n",
    "# Conclusion: the positive cases are reasonably equally distributed\n",
    "# = negative cases aren't\n",
    "plt.bar(sex, data[data.target == 1].groupby(['sex'])['target'].count())\n",
    "plt.title('Heart disease: positive vs sex')\n",
    "plt.show()\n",
    "\n",
    "# Male = 1, female 0\n",
    "# Positive heart disease = 1, negative heart disease = 0\n",
    "data.groupby(['sex', 'target'])['target'].count()\n",
    "# Data for females is skewed towards positive cases"
   ]
  },
  {
   "cell_type": "code",
   "execution_count": 86,
   "metadata": {},
   "outputs": [
    {
     "data": {
      "text/html": [
       "<style  type=\"text/css\" >\n",
       "    #T_2330a41a_4991_11e9_a2b0_c485087ec58drow0_col0 {\n",
       "            background-color:  #f9fc66;\n",
       "        }    #T_2330a41a_4991_11e9_a2b0_c485087ec58drow0_col1 {\n",
       "            background-color:  #ffff66;\n",
       "        }    #T_2330a41a_4991_11e9_a2b0_c485087ec58drow0_col2 {\n",
       "            background-color:  #ffff66;\n",
       "        }    #T_2330a41a_4991_11e9_a2b0_c485087ec58drow0_col3 {\n",
       "            background-color:  #ffff66;\n",
       "        }    #T_2330a41a_4991_11e9_a2b0_c485087ec58drow0_col4 {\n",
       "            background-color:  #ffff66;\n",
       "        }    #T_2330a41a_4991_11e9_a2b0_c485087ec58drow1_col0 {\n",
       "            background-color:  #ffff66;\n",
       "        }    #T_2330a41a_4991_11e9_a2b0_c485087ec58drow1_col1 {\n",
       "            background-color:  #b5da66;\n",
       "        }    #T_2330a41a_4991_11e9_a2b0_c485087ec58drow1_col2 {\n",
       "            background-color:  #9dce66;\n",
       "        }    #T_2330a41a_4991_11e9_a2b0_c485087ec58drow1_col3 {\n",
       "            background-color:  #d3e966;\n",
       "        }    #T_2330a41a_4991_11e9_a2b0_c485087ec58drow1_col4 {\n",
       "            background-color:  #d3e966;\n",
       "        }    #T_2330a41a_4991_11e9_a2b0_c485087ec58drow2_col0 {\n",
       "            background-color:  #7abc66;\n",
       "        }    #T_2330a41a_4991_11e9_a2b0_c485087ec58drow2_col1 {\n",
       "            background-color:  #e5f266;\n",
       "        }    #T_2330a41a_4991_11e9_a2b0_c485087ec58drow2_col2 {\n",
       "            background-color:  #d0e866;\n",
       "        }    #T_2330a41a_4991_11e9_a2b0_c485087ec58drow2_col3 {\n",
       "            background-color:  #b2d866;\n",
       "        }    #T_2330a41a_4991_11e9_a2b0_c485087ec58drow2_col4 {\n",
       "            background-color:  #add666;\n",
       "        }    #T_2330a41a_4991_11e9_a2b0_c485087ec58drow3_col0 {\n",
       "            background-color:  #f9fc66;\n",
       "        }    #T_2330a41a_4991_11e9_a2b0_c485087ec58drow3_col1 {\n",
       "            background-color:  #85c266;\n",
       "        }    #T_2330a41a_4991_11e9_a2b0_c485087ec58drow3_col2 {\n",
       "            background-color:  #9acc66;\n",
       "        }    #T_2330a41a_4991_11e9_a2b0_c485087ec58drow3_col3 {\n",
       "            background-color:  #7abc66;\n",
       "        }    #T_2330a41a_4991_11e9_a2b0_c485087ec58drow3_col4 {\n",
       "            background-color:  #c0e066;\n",
       "        }    #T_2330a41a_4991_11e9_a2b0_c485087ec58drow4_col0 {\n",
       "            background-color:  #008066;\n",
       "        }    #T_2330a41a_4991_11e9_a2b0_c485087ec58drow4_col1 {\n",
       "            background-color:  #008066;\n",
       "        }    #T_2330a41a_4991_11e9_a2b0_c485087ec58drow4_col2 {\n",
       "            background-color:  #008066;\n",
       "        }    #T_2330a41a_4991_11e9_a2b0_c485087ec58drow4_col3 {\n",
       "            background-color:  #008066;\n",
       "        }    #T_2330a41a_4991_11e9_a2b0_c485087ec58drow4_col4 {\n",
       "            background-color:  #008066;\n",
       "        }</style>  \n",
       "<table id=\"T_2330a41a_4991_11e9_a2b0_c485087ec58d\" > \n",
       "<thead>    <tr> \n",
       "        <th class=\"blank\" ></th> \n",
       "        <th class=\"index_name level0\" >cp</th> \n",
       "        <th class=\"col_heading level0 col0\" >0</th> \n",
       "        <th class=\"col_heading level0 col1\" >1</th> \n",
       "        <th class=\"col_heading level0 col2\" >2</th> \n",
       "        <th class=\"col_heading level0 col3\" >3</th> \n",
       "        <th class=\"col_heading level0 col4\" >All</th> \n",
       "    </tr>    <tr> \n",
       "        <th class=\"index_name level0\" >sex</th> \n",
       "        <th class=\"index_name level1\" >target</th> \n",
       "        <th class=\"blank\" ></th> \n",
       "        <th class=\"blank\" ></th> \n",
       "        <th class=\"blank\" ></th> \n",
       "        <th class=\"blank\" ></th> \n",
       "        <th class=\"blank\" ></th> \n",
       "    </tr></thead> \n",
       "<tbody>    <tr> \n",
       "        <th id=\"T_2330a41a_4991_11e9_a2b0_c485087ec58dlevel0_row0\" class=\"row_heading level0 row0\" rowspan=2>0</th> \n",
       "        <th id=\"T_2330a41a_4991_11e9_a2b0_c485087ec58dlevel1_row0\" class=\"row_heading level1 row0\" >0</th> \n",
       "        <td id=\"T_2330a41a_4991_11e9_a2b0_c485087ec58drow0_col0\" class=\"data row0 col0\" >21</td> \n",
       "        <td id=\"T_2330a41a_4991_11e9_a2b0_c485087ec58drow0_col1\" class=\"data row0 col1\" >2</td> \n",
       "        <td id=\"T_2330a41a_4991_11e9_a2b0_c485087ec58drow0_col2\" class=\"data row0 col2\" >1</td> \n",
       "        <td id=\"T_2330a41a_4991_11e9_a2b0_c485087ec58drow0_col3\" class=\"data row0 col3\" >0</td> \n",
       "        <td id=\"T_2330a41a_4991_11e9_a2b0_c485087ec58drow0_col4\" class=\"data row0 col4\" >24</td> \n",
       "    </tr>    <tr> \n",
       "        <th id=\"T_2330a41a_4991_11e9_a2b0_c485087ec58dlevel1_row1\" class=\"row_heading level1 row1\" >1</th> \n",
       "        <td id=\"T_2330a41a_4991_11e9_a2b0_c485087ec58drow1_col0\" class=\"data row1 col0\" >18</td> \n",
       "        <td id=\"T_2330a41a_4991_11e9_a2b0_c485087ec58drow1_col1\" class=\"data row1 col1\" >16</td> \n",
       "        <td id=\"T_2330a41a_4991_11e9_a2b0_c485087ec58drow1_col2\" class=\"data row1 col2\" >34</td> \n",
       "        <td id=\"T_2330a41a_4991_11e9_a2b0_c485087ec58drow1_col3\" class=\"data row1 col3\" >4</td> \n",
       "        <td id=\"T_2330a41a_4991_11e9_a2b0_c485087ec58drow1_col4\" class=\"data row1 col4\" >72</td> \n",
       "    </tr>    <tr> \n",
       "        <th id=\"T_2330a41a_4991_11e9_a2b0_c485087ec58dlevel0_row2\" class=\"row_heading level0 row2\" rowspan=2>1</th> \n",
       "        <th id=\"T_2330a41a_4991_11e9_a2b0_c485087ec58dlevel1_row2\" class=\"row_heading level1 row2\" >0</th> \n",
       "        <td id=\"T_2330a41a_4991_11e9_a2b0_c485087ec58drow2_col0\" class=\"data row2 col0\" >83</td> \n",
       "        <td id=\"T_2330a41a_4991_11e9_a2b0_c485087ec58drow2_col1\" class=\"data row2 col1\" >7</td> \n",
       "        <td id=\"T_2330a41a_4991_11e9_a2b0_c485087ec58drow2_col2\" class=\"data row2 col2\" >17</td> \n",
       "        <td id=\"T_2330a41a_4991_11e9_a2b0_c485087ec58drow2_col3\" class=\"data row2 col3\" >7</td> \n",
       "        <td id=\"T_2330a41a_4991_11e9_a2b0_c485087ec58drow2_col4\" class=\"data row2 col4\" >114</td> \n",
       "    </tr>    <tr> \n",
       "        <th id=\"T_2330a41a_4991_11e9_a2b0_c485087ec58dlevel1_row3\" class=\"row_heading level1 row3\" >1</th> \n",
       "        <td id=\"T_2330a41a_4991_11e9_a2b0_c485087ec58drow3_col0\" class=\"data row3 col0\" >21</td> \n",
       "        <td id=\"T_2330a41a_4991_11e9_a2b0_c485087ec58drow3_col1\" class=\"data row3 col1\" >25</td> \n",
       "        <td id=\"T_2330a41a_4991_11e9_a2b0_c485087ec58drow3_col2\" class=\"data row3 col2\" >35</td> \n",
       "        <td id=\"T_2330a41a_4991_11e9_a2b0_c485087ec58drow3_col3\" class=\"data row3 col3\" >12</td> \n",
       "        <td id=\"T_2330a41a_4991_11e9_a2b0_c485087ec58drow3_col4\" class=\"data row3 col4\" >93</td> \n",
       "    </tr>    <tr> \n",
       "        <th id=\"T_2330a41a_4991_11e9_a2b0_c485087ec58dlevel0_row4\" class=\"row_heading level0 row4\" >All</th> \n",
       "        <th id=\"T_2330a41a_4991_11e9_a2b0_c485087ec58dlevel1_row4\" class=\"row_heading level1 row4\" ></th> \n",
       "        <td id=\"T_2330a41a_4991_11e9_a2b0_c485087ec58drow4_col0\" class=\"data row4 col0\" >143</td> \n",
       "        <td id=\"T_2330a41a_4991_11e9_a2b0_c485087ec58drow4_col1\" class=\"data row4 col1\" >50</td> \n",
       "        <td id=\"T_2330a41a_4991_11e9_a2b0_c485087ec58drow4_col2\" class=\"data row4 col2\" >87</td> \n",
       "        <td id=\"T_2330a41a_4991_11e9_a2b0_c485087ec58drow4_col3\" class=\"data row4 col3\" >23</td> \n",
       "        <td id=\"T_2330a41a_4991_11e9_a2b0_c485087ec58drow4_col4\" class=\"data row4 col4\" >303</td> \n",
       "    </tr></tbody> \n",
       "</table> "
      ],
      "text/plain": [
       "<pandas.io.formats.style.Styler at 0x26a5077ebe0>"
      ]
     },
     "execution_count": 86,
     "metadata": {},
     "output_type": "execute_result"
    }
   ],
   "source": [
    "# checking distribution for male/female for different levels of chest pain\n",
    "# chest pain description:\n",
    "# 9 cp: chest pain type\n",
    "# -- Value 1: typical angina\n",
    "# -- Value 2: atypical angina\n",
    "# -- Value 3: non-anginal pain\n",
    "# -- Value 4: asymptomatic  \n",
    "# Therefore, we come to the conclusion:\n",
    "# For males, the data strongly suggests that there could be predictive power in classifying males as not having heart disease if the chest pain type is typical angina \n",
    "pd.crosstab([data['sex'],data['target']],data.cp,margins=True).style.background_gradient(cmap='summer_r')"
   ]
  },
  {
   "cell_type": "code",
   "execution_count": 9,
   "metadata": {},
   "outputs": [
    {
     "data": {
      "image/png": "[encoded data removed]",
      "text/plain": [
       "<Figure size 1296x576 with 2 Axes>"
      ]
     },
     "metadata": {
      "needs_background": "light"
     },
     "output_type": "display_data"
    }
   ],
   "source": [
    "# Visualizing heart disease over different ages for the two genders and different types of chest pain\n",
    "# Conclusion:\n",
    "# Graph 1:\n",
    "# A lot of positive cases exist for heart disease patients who were asymptomatic (cp = 3), i.e. no chest pain.\n",
    "# Graph 2:\n",
    "# For females, the negative cases are mostly between the range of 45-70 year old, \n",
    "# which means that predictions in non represented age spans may be inadequate. Is this acceptable? Depends on\n",
    "# where the model will be deployed.\n",
    "# The distribution for positive females is more even.\n",
    "# The male distribution for positive and negative cases is relatively even.\n",
    "f,ax=plt.subplots(1,2,figsize=(18,8))\n",
    "sb.violinplot(\"cp\",\"age\", hue=\"target\", data=data,split=True,ax=ax[0])\n",
    "ax[0].set_title('chest pain and age vs heart disease')\n",
    "ax[0].set_yticks(range(0,110,10))\n",
    "sb.violinplot(\"sex\",\"age\", hue=\"target\", data=data,split=True,ax=ax[1])\n",
    "ax[1].set_title('sex and age vs heart disease')\n",
    "ax[1].set_yticks(range(0,110,10))\n",
    "plt.show()"
   ]
  },
  {
   "cell_type": "code",
   "execution_count": 62,
   "metadata": {},
   "outputs": [
    {
     "data": {
      "text/html": [
       "<div>\n",
       "<style scoped>\n",
       "    .dataframe tbody tr th:only-of-type {\n",
       "        vertical-align: middle;\n",
       "    }\n",
       "\n",
       "    .dataframe tbody tr th {\n",
       "        vertical-align: top;\n",
       "    }\n",
       "\n",
       "    .dataframe thead th {\n",
       "        text-align: right;\n",
       "    }\n",
       "</style>\n",
       "<table border=\"1\" class=\"dataframe\">\n",
       "  <thead>\n",
       "    <tr style=\"text-align: right;\">\n",
       "      <th></th>\n",
       "      <th>age</th>\n",
       "      <th>sex</th>\n",
       "      <th>cp</th>\n",
       "      <th>trestbps</th>\n",
       "      <th>chol</th>\n",
       "      <th>fbs</th>\n",
       "      <th>restecg</th>\n",
       "      <th>thalach</th>\n",
       "      <th>exang</th>\n",
       "      <th>oldpeak</th>\n",
       "      <th>slope</th>\n",
       "      <th>ca</th>\n",
       "      <th>thal</th>\n",
       "      <th>target</th>\n",
       "    </tr>\n",
       "  </thead>\n",
       "  <tbody>\n",
       "    <tr>\n",
       "      <th>0</th>\n",
       "      <td>63</td>\n",
       "      <td>1</td>\n",
       "      <td>3</td>\n",
       "      <td>145</td>\n",
       "      <td>233</td>\n",
       "      <td>1</td>\n",
       "      <td>0</td>\n",
       "      <td>150</td>\n",
       "      <td>0</td>\n",
       "      <td>2.3</td>\n",
       "      <td>0</td>\n",
       "      <td>0</td>\n",
       "      <td>1</td>\n",
       "      <td>1</td>\n",
       "    </tr>\n",
       "    <tr>\n",
       "      <th>1</th>\n",
       "      <td>37</td>\n",
       "      <td>1</td>\n",
       "      <td>2</td>\n",
       "      <td>130</td>\n",
       "      <td>250</td>\n",
       "      <td>0</td>\n",
       "      <td>1</td>\n",
       "      <td>187</td>\n",
       "      <td>0</td>\n",
       "      <td>3.5</td>\n",
       "      <td>0</td>\n",
       "      <td>0</td>\n",
       "      <td>2</td>\n",
       "      <td>1</td>\n",
       "    </tr>\n",
       "    <tr>\n",
       "      <th>2</th>\n",
       "      <td>41</td>\n",
       "      <td>0</td>\n",
       "      <td>1</td>\n",
       "      <td>130</td>\n",
       "      <td>204</td>\n",
       "      <td>0</td>\n",
       "      <td>0</td>\n",
       "      <td>172</td>\n",
       "      <td>0</td>\n",
       "      <td>1.4</td>\n",
       "      <td>2</td>\n",
       "      <td>0</td>\n",
       "      <td>2</td>\n",
       "      <td>1</td>\n",
       "    </tr>\n",
       "    <tr>\n",
       "      <th>3</th>\n",
       "      <td>56</td>\n",
       "      <td>1</td>\n",
       "      <td>1</td>\n",
       "      <td>120</td>\n",
       "      <td>236</td>\n",
       "      <td>0</td>\n",
       "      <td>1</td>\n",
       "      <td>178</td>\n",
       "      <td>0</td>\n",
       "      <td>0.8</td>\n",
       "      <td>2</td>\n",
       "      <td>0</td>\n",
       "      <td>2</td>\n",
       "      <td>1</td>\n",
       "    </tr>\n",
       "    <tr>\n",
       "      <th>4</th>\n",
       "      <td>57</td>\n",
       "      <td>0</td>\n",
       "      <td>0</td>\n",
       "      <td>120</td>\n",
       "      <td>354</td>\n",
       "      <td>0</td>\n",
       "      <td>1</td>\n",
       "      <td>163</td>\n",
       "      <td>1</td>\n",
       "      <td>0.6</td>\n",
       "      <td>2</td>\n",
       "      <td>0</td>\n",
       "      <td>2</td>\n",
       "      <td>1</td>\n",
       "    </tr>\n",
       "  </tbody>\n",
       "</table>\n",
       "</div>"
      ],
      "text/plain": [
       "   age  sex  cp  trestbps  chol  fbs  restecg  thalach  exang  oldpeak  slope  \\\n",
       "0   63    1   3       145   233    1        0      150      0      2.3      0   \n",
       "1   37    1   2       130   250    0        1      187      0      3.5      0   \n",
       "2   41    0   1       130   204    0        0      172      0      1.4      2   \n",
       "3   56    1   1       120   236    0        1      178      0      0.8      2   \n",
       "4   57    0   0       120   354    0        1      163      1      0.6      2   \n",
       "\n",
       "   ca  thal  target  \n",
       "0   0     1       1  \n",
       "1   0     2       1  \n",
       "2   0     2       1  \n",
       "3   0     2       1  \n",
       "4   0     2       1  "
      ]
     },
     "execution_count": 62,
     "metadata": {},
     "output_type": "execute_result"
    }
   ],
   "source": [
    "# checking the first few rows to get a feel for the contents of the dataset \n",
    "data.head()"
   ]
  },
  {
   "cell_type": "code",
   "execution_count": 34,
   "metadata": {},
   "outputs": [
    {
     "data": {
      "text/plain": [
       "1    165\n",
       "0    138\n",
       "Name: target, dtype: int64"
      ]
     },
     "execution_count": 34,
     "metadata": {},
     "output_type": "execute_result"
    }
   ],
   "source": [
    "# checking distribution between positive and negative subjects in the dataset\n",
    "data.target.value_counts()"
   ]
  },
  {
   "cell_type": "code",
   "execution_count": 4,
   "metadata": {},
   "outputs": [],
   "source": [
    "# checking for duplicate rows\n",
    "data.duplicated().value_counts()\n",
    "# one duplicate row found, drop it\n",
    "data = data.drop_duplicates()"
   ]
  },
  {
   "cell_type": "code",
   "execution_count": 5,
   "metadata": {},
   "outputs": [
    {
     "data": {
      "text/plain": [
       "age         0\n",
       "sex         0\n",
       "cp          0\n",
       "trestbps    0\n",
       "chol        0\n",
       "fbs         0\n",
       "restecg     0\n",
       "thalach     0\n",
       "exang       0\n",
       "oldpeak     0\n",
       "slope       0\n",
       "ca          0\n",
       "thal        0\n",
       "target      0\n",
       "dtype: int64"
      ]
     },
     "execution_count": 5,
     "metadata": {},
     "output_type": "execute_result"
    }
   ],
   "source": [
    "# no null cells for any feature\n",
    "data.isnull().sum()"
   ]
  },
  {
   "cell_type": "code",
   "execution_count": 6,
   "metadata": {},
   "outputs": [
    {
     "data": {
      "text/plain": [
       "0.7763157894736842"
      ]
     },
     "execution_count": 6,
     "metadata": {},
     "output_type": "execute_result"
    }
   ],
   "source": [
    "## -------------------------------------------------\n",
    "## Create model using random forest algorithm, evaluate using accuracy\n",
    "## -------------------------------------------------\n",
    "\n",
    "from sklearn.model_selection import train_test_split\n",
    "from sklearn.ensemble import RandomForestClassifier as rf\n",
    "\n",
    "# Split data into test (25%), train (75%) and corresponding labels\n",
    "x_train, x_test, y_train, y_test  = train_test_split(data.drop('target', 1), data['target'], test_size = 0.25)\n",
    "\n",
    "# Forest of 50 trees\n",
    "model = rf(n_estimators=50)\n",
    "model = model.fit(x_train, y_train)\n",
    "# Create predictions\n",
    "pred = model.predict(x_test)\n",
    "# Calculate accuracy using above model\n",
    "(pred == y_test).sum()/y_test.size\n"
   ]
  },
  {
   "cell_type": "code",
   "execution_count": 7,
   "metadata": {},
   "outputs": [
    {
     "name": "stdout",
     "output_type": "stream",
     "text": [
      "0.8219001820578247\n"
     ]
    }
   ],
   "source": [
    "## -------------------------------------------------\n",
    "## Using cross validation + AUC instead of accuracy\n",
    "## -------------------------------------------------\n",
    "\n",
    "from sklearn.ensemble import RandomForestClassifier\n",
    "from sklearn.metrics import roc_curve, auc\n",
    "from sklearn.model_selection import StratifiedKFold\n",
    "\n",
    "\n",
    "rf = RandomForestClassifier(n_estimators=100,criterion=\"entropy\")   \n",
    "cv = StratifiedKFold(n_splits=10)\n",
    "# holding true positives\n",
    "tprs = []\n",
    "# holding auc scores\n",
    "aucs = []\n",
    "# create ndarray with \n",
    "mean_fpr = np.linspace(0, 1, 100)\n",
    "\n",
    "class_labels = data['target'].reset_index(drop=True)\n",
    "data_no_cl = data.drop('target', axis = 1)\n",
    "\n",
    "for train, test in cv.split(data_no_cl, class_labels):\n",
    "    model = rf.fit(data_no_cl.iloc[train], class_labels[train])\n",
    "    pred = model.predict(data_no_cl.iloc[test])\n",
    "    # Compute ROC curve and area the curve\n",
    "    fpr, tpr, thresholds = roc_curve(class_labels[test], pred)\n",
    "    tprs.append(np.interp(mean_fpr, fpr, tpr))\n",
    "    tprs[-1][0] = 0.0\n",
    "    roc_auc = auc(fpr, tpr)\n",
    "    aucs.append(roc_auc)\n",
    "        \n",
    "mean_tpr = np.mean(tprs, axis=0)\n",
    "mean_tpr[-1] = 1.0\n",
    "mean_auc = auc(mean_fpr, mean_tpr)\n",
    "print(mean_auc)"
   ]
  }
 ],
 "metadata": {
  "kernelspec": {
   "display_name": "Python 3",
   "language": "python",
   "name": "python3"
  },
  "language_info": {
   "codemirror_mode": {
    "name": "ipython",
    "version": 3
   },
   "file_extension": ".py",
   "mimetype": "text/x-python",
   "name": "python",
   "nbconvert_exporter": "python",
   "pygments_lexer": "ipython3",
   "version": "3.7.1"
  }
 },
 "nbformat": 4,
 "nbformat_minor": 2
}
