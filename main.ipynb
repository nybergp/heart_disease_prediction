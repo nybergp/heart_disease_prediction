{
 "cells": [
  {
   "cell_type": "code",
   "execution_count": 13,
   "metadata": {},
   "outputs": [
    {
     "data": {
      "text/plain": [
       "age         0\n",
       "sex         0\n",
       "cp          0\n",
       "trestbps    0\n",
       "chol        0\n",
       "fbs         0\n",
       "restecg     0\n",
       "thalach     0\n",
       "exang       0\n",
       "oldpeak     0\n",
       "slope       0\n",
       "ca          0\n",
       "thal        0\n",
       "target      0\n",
       "dtype: int64"
      ]
     },
     "execution_count": 13,
     "metadata": {},
     "output_type": "execute_result"
    }
   ],
   "source": [
    "# Project description\n",
    "#\n",
    "# The aim of this notebook is to explore and find ways to predict heart disease with as high performance as possible\n",
    "# using the \"UCI Heart Disease\" dataset, extracted from Kaggle.com.\n",
    "# CRISP-DM?????\n",
    "# -------------------------\n",
    "\n",
    "# Imports\n",
    "import pandas as pd\n",
    "import numpy as np\n",
    "\n",
    "data = pd.read_csv('dataset.csv', sep = ',')\n",
    "\n",
    "# checking columns of dataset\n",
    "list(data.columns)\n",
    "# checking the first few rows to get a feel for the contents of the dataset \n",
    "data.head()\n",
    "data.describe()\n",
    "# checking distribution between positive and negative subjects in the dataset\n",
    "data.target.value_counts()\n",
    "# checking for duplicate rows\n",
    "data.duplicated().value_counts()\n",
    "# one duplicate row found, drop it\n",
    "data = data.drop_duplicates()\n",
    "# no null cells for any feature\n",
    "data.isnull().sum()"
   ]
  },
  {
   "cell_type": "code",
   "execution_count": 22,
   "metadata": {},
   "outputs": [
    {
     "data": {
      "text/plain": [
       "0.8289473684210527"
      ]
     },
     "execution_count": 22,
     "metadata": {},
     "output_type": "execute_result"
    }
   ],
   "source": [
    "from sklearn.model_selection import train_test_split\n",
    "from sklearn.ensemble import RandomForestClassifier as rf\n",
    "\n",
    "# Split the data into training and testing sets\n",
    "x_train, x_test, y_train, y_test  = train_test_split(data.drop('target', 1), data['target'], test_size = 0.25)\n",
    "\n",
    "model = rf(n_estimators=50)\n",
    "model = model.fit(x_train, y_train)\n",
    "classes = model.predict(x_test)\n",
    "(classes == y_test).sum()/y_test.size\n"
   ]
  },
  {
   "cell_type": "code",
   "execution_count": null,
   "metadata": {},
   "outputs": [],
   "source": []
  },
  {
   "cell_type": "code",
   "execution_count": null,
   "metadata": {},
   "outputs": [],
   "source": []
  },
  {
   "cell_type": "code",
   "execution_count": null,
   "metadata": {},
   "outputs": [],
   "source": []
  }
 ],
 "metadata": {
  "kernelspec": {
   "display_name": "Python 3",
   "language": "python",
   "name": "python3"
  },
  "language_info": {
   "codemirror_mode": {
    "name": "ipython",
    "version": 3
   },
   "file_extension": ".py",
   "mimetype": "text/x-python",
   "name": "python",
   "nbconvert_exporter": "python",
   "pygments_lexer": "ipython3",
   "version": "3.7.1"
  }
 },
 "nbformat": 4,
 "nbformat_minor": 2
}
